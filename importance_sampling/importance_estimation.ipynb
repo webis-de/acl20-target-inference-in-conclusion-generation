{
 "cells": [
  {
   "cell_type": "code",
   "execution_count": 1,
   "metadata": {
    "slideshow": {
     "slide_type": "skip"
    }
   },
   "outputs": [],
   "source": [
    "%load_ext autoreload\n",
    "%autoreload\n",
    "\n",
    "from importance_estimation import ImportanceEstimationModel\n",
    "from   matplotlib import pyplot as plt"
   ]
  },
  {
   "cell_type": "code",
   "execution_count": 2,
   "metadata": {},
   "outputs": [
    {
     "name": "stdout",
     "output_type": "stream",
     "text": [
      "Number of train arguments: 1635\n",
      "Number of test arguments: 439\n",
      "Number of dev arguments: 185\n"
     ]
    }
   ],
   "source": [
    "model = ImportanceEstimationModel()\n",
    "train_data, dev_data, test_data = model.load_data('../data/idebate/train.json', '../data/idebate/dev.json', '../data/idebate/test.json')\n",
    "\n",
    "print('Number of train arguments:', len(train_data))\n",
    "print('Number of test arguments:', len(test_data))\n",
    "print('Number of dev arguments:', len(dev_data))"
   ]
  },
  {
   "cell_type": "code",
   "execution_count": 3,
   "metadata": {
    "slideshow": {
     "slide_type": "-"
    }
   },
   "outputs": [
    {
     "name": "stderr",
     "output_type": "stream",
     "text": [
      "/home/miladalshomary/Development/thirdparty/anaconda/lib/python3.7/site-packages/sklearn/utils/validation.py:475: DataConversionWarning: Data with input dtype int64 was converted to float64 by MinMaxScaler.\n",
      "  warnings.warn(msg, DataConversionWarning)\n"
     ]
    }
   ],
   "source": [
    "train_X, train_Y = model.feature_representation(train_data)"
   ]
  },
  {
   "cell_type": "code",
   "execution_count": 4,
   "metadata": {},
   "outputs": [
    {
     "name": "stdout",
     "output_type": "stream",
     "text": [
      "train_X shape : (12117, 8)\n",
      "train_Y shape : (12117,)\n"
     ]
    }
   ],
   "source": [
    "print('train_X shape :', train_X.shape)\n",
    "print('train_Y shape :', train_Y.shape)"
   ]
  },
  {
   "cell_type": "code",
   "execution_count": 5,
   "metadata": {},
   "outputs": [],
   "source": [
    "mean_absolute_error = model.train_svr(train_X, train_Y)"
   ]
  },
  {
   "cell_type": "code",
   "execution_count": 6,
   "metadata": {},
   "outputs": [
    {
     "name": "stdout",
     "output_type": "stream",
     "text": [
      "Mean absolute error: -0.07665835207824837\n"
     ]
    }
   ],
   "source": [
    "print('Mean absolute error:', mean_absolute_error)"
   ]
  },
  {
   "cell_type": "markdown",
   "metadata": {},
   "source": [
    "#### Evaluation:"
   ]
  },
  {
   "cell_type": "markdown",
   "metadata": {},
   "source": [
    "For evaluation we compute the __mean reciprocal rank (MRR)__. A document is relievant if it overlaps with the conclusion."
   ]
  },
  {
   "cell_type": "code",
   "execution_count": 7,
   "metadata": {},
   "outputs": [
    {
     "data": {
      "text/plain": [
       "0.9223541960444009"
      ]
     },
     "execution_count": 7,
     "metadata": {},
     "output_type": "execute_result"
    }
   ],
   "source": [
    "model.mrr_evaluation(test_data)"
   ]
  },
  {
   "cell_type": "code",
   "execution_count": 8,
   "metadata": {},
   "outputs": [],
   "source": [
    "scored_train_data = model.score_data(train_data)\n",
    "scored_test_data = model.score_data(test_data)\n",
    "scored_dev_data = model.score_data(dev_data)"
   ]
  },
  {
   "cell_type": "code",
   "execution_count": 9,
   "metadata": {},
   "outputs": [],
   "source": [
    "import json\n",
    "\n",
    "json.dump(scored_train_data, open('../data/idebate/train_scored.json', 'w'))\n",
    "json.dump(scored_test_data, open('../data/idebate/test_scored.json', 'w'))\n",
    "json.dump(scored_dev_data, open('../data/idebate/dev_scored.json', 'w'))"
   ]
  },
  {
   "cell_type": "code",
   "execution_count": null,
   "metadata": {},
   "outputs": [],
   "source": []
  }
 ],
 "metadata": {
  "celltoolbar": "Slideshow",
  "kernelspec": {
   "display_name": "Python 3",
   "language": "python",
   "name": "python3"
  },
  "language_info": {
   "codemirror_mode": {
    "name": "ipython",
    "version": 3
   },
   "file_extension": ".py",
   "mimetype": "text/x-python",
   "name": "python",
   "nbconvert_exporter": "python",
   "pygments_lexer": "ipython3",
   "version": "3.7.2"
  }
 },
 "nbformat": 4,
 "nbformat_minor": 2
}
