{
 "cells": [
  {
   "cell_type": "code",
   "execution_count": 1,
   "metadata": {
    "colab": {
     "autoexec": {
      "startup": false,
      "wait_interval": 0
     }
    },
    "colab_type": "code",
    "id": "sx9e_pXlCuti"
   },
   "outputs": [],
   "source": [
    "%load_ext autoreload\n",
    "%autoreload 2"
   ]
  },
  {
   "cell_type": "code",
   "execution_count": 2,
   "metadata": {},
   "outputs": [],
   "source": [
    "import sys\n",
    "import os\n",
    "import pandas as pd\n",
    "\n",
    "os.environ[\"CUDA_VISIBLE_DEVICES\"]=\"1\""
   ]
  },
  {
   "cell_type": "code",
   "execution_count": 3,
   "metadata": {},
   "outputs": [],
   "source": [
    "import torch\n",
    "from torch.optim import lr_scheduler\n",
    "import torch.optim as optim\n",
    "from torch.autograd import Variable\n",
    "\n",
    "from trainer import fit\n",
    "import numpy as np\n",
    "from scipy.spatial import distance\n",
    "\n",
    "cuda = torch.cuda.is_available()\n",
    "\n",
    "%matplotlib notebook\n",
    "\n",
    "import matplotlib\n",
    "import matplotlib.pyplot as plt\n",
    "import random"
   ]
  },
  {
   "cell_type": "code",
   "execution_count": 4,
   "metadata": {},
   "outputs": [
    {
     "name": "stderr",
     "output_type": "stream",
     "text": [
      "[nltk_data] Downloading package stopwords to\n",
      "[nltk_data]     /home/miladalshomary/nltk_data...\n",
      "[nltk_data]   Package stopwords is already up-to-date!\n",
      "\n"
     ]
    },
    {
     "name": "stdout",
     "output_type": "stream",
     "text": [
      "Loading fasttext....\n"
     ]
    }
   ],
   "source": [
    "from target_inference.target_ranking.ranking_targets import *\n",
    "from target_inference import utils as utils\n",
    "from target_inference.conclusion_target_modeling import *\n",
    "from datasets import *\n",
    "from target_embedding_utils import *"
   ]
  },
  {
   "cell_type": "code",
   "execution_count": 6,
   "metadata": {},
   "outputs": [],
   "source": [
    "batch_size = 256\n",
    "kwargs = {'num_workers': 1, 'pin_memory': True} if cuda else {}"
   ]
  },
  {
   "cell_type": "code",
   "execution_count": 7,
   "metadata": {},
   "outputs": [],
   "source": [
    "embedding_method='fasttext'"
   ]
  },
  {
   "cell_type": "markdown",
   "metadata": {
    "colab_type": "text",
    "id": "MbKXy6yQCuuu"
   },
   "source": [
    "# Triplet network\n"
   ]
  },
  {
   "cell_type": "code",
   "execution_count": 8,
   "metadata": {},
   "outputs": [],
   "source": [
    "top_k = 4\n",
    "combination_of= 1\n",
    "num_negs = 1\n",
    "randomly_choose_k=False"
   ]
  },
  {
   "cell_type": "code",
   "execution_count": 9,
   "metadata": {},
   "outputs": [
    {
     "name": "stderr",
     "output_type": "stream",
     "text": [
      "/home/miladalshomary/Development/thirdparty/anaconda/lib/python3.7/site-packages/sklearn/ensemble/weight_boosting.py:29: DeprecationWarning: numpy.core.umath_tests is an internal NumPy module and should not be imported. It will be removed in a future NumPy release.\n",
      "  from numpy.core.umath_tests import inner1d\n"
     ]
    }
   ],
   "source": [
    "ranking_model = RankedTargetModel('../models/idebate_ranking_model.pickle')\n",
    "prem_essays_ranking_model = RankedTargetModel('../models/main_essays_ranking_model.pickle')\n",
    "main_essays_ranking_model = RankedTargetModel('../models/premises_essays_ranking_model.pickle')"
   ]
  },
  {
   "cell_type": "code",
   "execution_count": 28,
   "metadata": {},
   "outputs": [],
   "source": [
    "target_space_path= '../data/fasttext_embedded_only_conc_targets_space.pkl'"
   ]
  },
  {
   "cell_type": "code",
   "execution_count": 29,
   "metadata": {},
   "outputs": [],
   "source": [
    "#cmv_train_data = json.load(open('../../data/cmv/train_filtered.json', 'r'))\n",
    "main_essays_train_data = json.load(open('../data/student_essays_main_preprocessed/train_scored.json'))\n",
    "prem_essays_train_data = json.load(open('../data/student_essays_premises_preprocessed/train_scored.json'))\n",
    "idebate_train_data = json.load(open('../data/student_idebate_preprocessed/train_scored.json', 'r'))\n",
    "\n",
    "idebate_val_data   = json.load(open('../data/student_idebate_preprocessed/dev_scored.json', 'r'))\n",
    "main_essays_val_data   = json.load(open('../data/student_essays_main_preprocessed/dev_scored.json', 'r'))\n",
    "prem_essays_val_data   = json.load(open('../data/student_essays_premises_preprocessed/dev_scored.json', 'r'))\n",
    "\n",
    "idebate_test_data   = json.load(open('../data/student_idebate_preprocessed/test_scored.json', 'r'))\n",
    "\n",
    "# Prepare the test function\n",
    "target_space = pickle.load(open(target_space_path, 'rb'))"
   ]
  },
  {
   "cell_type": "markdown",
   "metadata": {},
   "source": [
    "### Cleaning up the training data:"
   ]
  },
  {
   "cell_type": "code",
   "execution_count": 31,
   "metadata": {},
   "outputs": [],
   "source": [
    "def filter_conc(conc):\n",
    "    if len(conc['targets']) == 0:\n",
    "        return False\n",
    "#     if len(conc['targets'][0]['text'].split()) > 5:\n",
    "#         return False\n",
    "    if conc['targets'][0]['text'][0:-1].isupper():\n",
    "        return False\n",
    "\n",
    "    return True"
   ]
  },
  {
   "cell_type": "code",
   "execution_count": 32,
   "metadata": {},
   "outputs": [],
   "source": [
    "idebate_train_data = list(filter(lambda x: filter_conc(x['conclusion']), idebate_train_data))\n",
    "idebate_val_data   = list(filter(lambda x: filter_conc(x['conclusion']), idebate_val_data))\n",
    "idebate_test_data  = list(filter(lambda x: filter_conc(x['conclusion']), idebate_test_data))"
   ]
  },
  {
   "cell_type": "code",
   "execution_count": 34,
   "metadata": {},
   "outputs": [],
   "source": [
    "#train_data = cmv_train_data + idebate_train_data\n",
    "train_data = idebate_train_data #  + prem_essays_train_data + main_essays_train_data"
   ]
  },
  {
   "cell_type": "code",
   "execution_count": 37,
   "metadata": {},
   "outputs": [
    {
     "name": "stdout",
     "output_type": "stream",
     "text": [
      "WARNING: trying to embed empty list of tokens.. returning default random vector\n",
      "WARNING: trying to embed empty list of tokens.. returning default random vector\n",
      "WARNING: trying to embed empty list of tokens.. returning default random vector\n",
      "WARNING: trying to embed empty list of tokens.. returning default random vector\n",
      "WARNING: trying to embed empty list of tokens.. returning default random vector\n",
      "WARNING: trying to embed empty list of tokens.. returning default random vector\n"
     ]
    }
   ],
   "source": [
    "train_triplet_samples, train_p_avg, _ = prepare_data(train_data, target_space_file=target_space_path,\n",
    "                                                                    embedding_method=embedding_method, triple_sampling=True, top_k=top_k,\n",
    "                                                                    how_to_choose_k='rank', combination_of=combination_of, ranking_model=ranking_model, \n",
    "                                                                    num_negs=num_negs)\n",
    "\n",
    "x0, x1, x2 = zip(*train_triplet_samples)\n",
    "x0 = np.array(x0)\n",
    "x1 = np.array(x1)\n",
    "x2 = np.array(x2)\n",
    "\n",
    "train_triplet_ds = TripletDataset(x0, x1, x2)\n",
    "\n",
    "val_triplet_samples, val_p_avg, _  = prepare_data(idebate_val_data, target_space_file=target_space_path,\n",
    "                                            embedding_method=embedding_method, triple_sampling=True, top_k=top_k, \n",
    "                                            how_to_choose_k='rank', combination_of=combination_of, ranking_model=ranking_model, \n",
    "                                             num_negs=num_negs)\n",
    "\n",
    "x00, x11, x22 = zip(*val_triplet_samples)\n",
    "x00 = np.array(x00)\n",
    "x11 = np.array(x11)\n",
    "x22 = np.array(x22)\n",
    "\n",
    "val_triplet_ds = TripletDataset(x00, x11, x22)"
   ]
  },
  {
   "cell_type": "code",
   "execution_count": 38,
   "metadata": {},
   "outputs": [
    {
     "name": "stdout",
     "output_type": "stream",
     "text": [
      "WARNING: trying to embed empty list of tokens.. returning default random vector\n",
      "WARNING: trying to embed empty list of tokens.. returning default random vector\n",
      "WARNING: trying to embed empty list of tokens.. returning default random vector\n",
      "WARNING: trying to embed empty list of tokens.. returning default random vector\n",
      "WARNING: trying to embed empty list of tokens.. returning default random vector\n",
      "WARNING: trying to embed empty list of tokens.. returning default random vector\n"
     ]
    }
   ],
   "source": [
    "idebate_test_data = prepare_test_data(idebate_test_data, embedding_method, top_k=top_k, how_to_choose_k='rank', \n",
    "                              ranking_model=ranking_model)\n",
    "\n",
    "idebate_val_data = prepare_test_data(idebate_val_data, embedding_method, top_k=top_k, how_to_choose_k='rank', \n",
    "                              ranking_model=ranking_model)\n",
    "\n",
    "main_essays_test_data = prepare_test_data(main_essays_val_data, embedding_method, top_k=top_k, how_to_choose_k='rank', \n",
    "                              ranking_model=main_essays_ranking_model)\n",
    "\n",
    "prem_essays_test_data = prepare_test_data(main_essays_val_data, embedding_method, top_k=top_k, how_to_choose_k='rank', \n",
    "                              ranking_model=prem_essays_ranking_model)"
   ]
  },
  {
   "cell_type": "code",
   "execution_count": 39,
   "metadata": {},
   "outputs": [
    {
     "data": {
      "text/plain": [
       "4700"
      ]
     },
     "execution_count": 39,
     "metadata": {},
     "output_type": "execute_result"
    }
   ],
   "source": [
    "len(train_triplet_ds)"
   ]
  },
  {
   "cell_type": "markdown",
   "metadata": {},
   "source": [
    "### Training a model:"
   ]
  },
  {
   "cell_type": "code",
   "execution_count": 40,
   "metadata": {
    "colab": {
     "autoexec": {
      "startup": false,
      "wait_interval": 0
     }
    },
    "colab_type": "code",
    "id": "jv4DvFucCuuu"
   },
   "outputs": [],
   "source": [
    "# Set up the network and training parameters\n",
    "from networks import TargetEmbeddingNet, SiameseNet, TripletNet, TargetCNNEmbeddingNet\n",
    "from losses import ContrastiveLoss, TripletLoss\n",
    "\n",
    "triplet_train_loader = torch.utils.data.DataLoader(train_triplet_ds, batch_size=batch_size, shuffle=True, **kwargs)\n",
    "triplet_test_loader = torch.utils.data.DataLoader(val_triplet_ds, batch_size=batch_size, shuffle=False, **kwargs)"
   ]
  },
  {
   "cell_type": "code",
   "execution_count": 63,
   "metadata": {},
   "outputs": [],
   "source": [
    "test_fun = lambda model: test_model(model, idebate_val_data, target_space, combination_of=combination_of)"
   ]
  },
  {
   "cell_type": "code",
   "execution_count": 74,
   "metadata": {
    "colab": {
     "autoexec": {
      "startup": false,
      "wait_interval": 0
     },
     "base_uri": "https://localhost:8080/",
     "height": 2397
    },
    "colab_type": "code",
    "id": "Dj9AoYpsCuuz",
    "outputId": "70ff7e3d-4e0b-403c-9af1-41c51a4c808e",
    "scrolled": true
   },
   "outputs": [],
   "source": [
    "margin = 0.2\n",
    "target_embedding_net = TargetEmbeddingNet(300, 100)\n",
    "#avg_embedding_net = TargetEmbeddingNet(300, 300) # TargetCNNEmbeddingNet(emb_size=300, num_filters=10, output_dim=300, window_sizes=(3, 2, 1))\n",
    "triple_model = TripletNet(target_embedding_net, target_embedding_net)\n",
    "if cuda:\n",
    "    triple_model.cuda()\n",
    "loss_fn = TripletLoss(margin)\n",
    "lr = 1e-3\n",
    "optimizer = optim.Adam(triple_model.parameters(), lr=lr)\n",
    "scheduler = lr_scheduler.StepLR(optimizer, 300, gamma=0.5, last_epoch=-1)"
   ]
  },
  {
   "cell_type": "code",
   "execution_count": 75,
   "metadata": {
    "scrolled": true
   },
   "outputs": [
    {
     "name": "stdout",
     "output_type": "stream",
     "text": [
      "Train: [0/4700 (0%)]\tLoss: 0.189684\n",
      "Epoch: 1/25. Train set: Average loss: 0.1656\n",
      "Epoch: 1/25. Validation set: Average loss: 0.1419\n",
      "Train: [0/4700 (0%)]\tLoss: 0.118935\n",
      "Epoch: 2/25. Train set: Average loss: 0.0977\n",
      "Epoch: 2/25. Validation set: Average loss: 0.1152\n",
      "Train: [0/4700 (0%)]\tLoss: 0.062573\n",
      "Finshed Mapping...\n",
      "Optimistic Model Acc:  [0.19, 0.11, 0.11]\n",
      "Optimistic Baseline Acc:  [0.22, 0.14, 0.14]\n",
      "Optimistic Model BLEU:  8.465\n",
      "Optimistic Baseline BLEU:  7.621\n",
      "Optimistic Model METEOR:  0.125\n",
      "Optimistic Baseline METEOR:  0.167\n",
      "Epoch: 3/25. Train set: Average loss: 0.0648\n",
      "Epoch: 3/25. Validation set: Average loss: 0.1039\n",
      "Train: [0/4700 (0%)]\tLoss: 0.051232\n",
      "Epoch: 4/25. Train set: Average loss: 0.0498\n",
      "Epoch: 4/25. Validation set: Average loss: 0.0933\n",
      "Train: [0/4700 (0%)]\tLoss: 0.049111\n",
      "Epoch: 5/25. Train set: Average loss: 0.0390\n",
      "Epoch: 5/25. Validation set: Average loss: 0.0939\n",
      "Train: [0/4700 (0%)]\tLoss: 0.030928\n",
      "Finshed Mapping...\n",
      "Optimistic Model Acc:  [0.18, 0.09, 0.09]\n",
      "Optimistic Baseline Acc:  [0.22, 0.14, 0.14]\n",
      "Optimistic Model BLEU:  8.439\n",
      "Optimistic Baseline BLEU:  7.621\n",
      "Optimistic Model METEOR:  0.111\n",
      "Optimistic Baseline METEOR:  0.167\n",
      "Epoch: 6/25. Train set: Average loss: 0.0311\n",
      "Epoch: 6/25. Validation set: Average loss: 0.0918\n",
      "Train: [0/4700 (0%)]\tLoss: 0.024653\n",
      "Epoch: 7/25. Train set: Average loss: 0.0268\n",
      "Epoch: 7/25. Validation set: Average loss: 0.0906\n",
      "Train: [0/4700 (0%)]\tLoss: 0.022993\n",
      "Epoch: 8/25. Train set: Average loss: 0.0236\n",
      "Epoch: 8/25. Validation set: Average loss: 0.0924\n",
      "Train: [0/4700 (0%)]\tLoss: 0.021681\n",
      "Finshed Mapping...\n",
      "Optimistic Model Acc:  [0.18, 0.1, 0.1]\n",
      "Optimistic Baseline Acc:  [0.22, 0.14, 0.14]\n",
      "Optimistic Model BLEU:  8.139\n",
      "Optimistic Baseline BLEU:  7.621\n",
      "Optimistic Model METEOR:  0.107\n",
      "Optimistic Baseline METEOR:  0.167\n",
      "Epoch: 9/25. Train set: Average loss: 0.0204\n",
      "Epoch: 9/25. Validation set: Average loss: 0.0925\n",
      "Train: [0/4700 (0%)]\tLoss: 0.022255\n",
      "Epoch: 10/25. Train set: Average loss: 0.0194\n",
      "Epoch: 10/25. Validation set: Average loss: 0.0921\n",
      "Train: [0/4700 (0%)]\tLoss: 0.017451\n",
      "Epoch: 11/25. Train set: Average loss: 0.0168\n",
      "Epoch: 11/25. Validation set: Average loss: 0.0900\n",
      "Train: [0/4700 (0%)]\tLoss: 0.011682\n",
      "Finshed Mapping...\n",
      "Optimistic Model Acc:  [0.17, 0.1, 0.1]\n",
      "Optimistic Baseline Acc:  [0.22, 0.14, 0.14]\n",
      "Optimistic Model BLEU:  9.033\n",
      "Optimistic Baseline BLEU:  7.621\n",
      "Optimistic Model METEOR:  0.124\n",
      "Optimistic Baseline METEOR:  0.167\n",
      "Epoch: 12/25. Train set: Average loss: 0.0148\n",
      "Epoch: 12/25. Validation set: Average loss: 0.0907\n",
      "Train: [0/4700 (0%)]\tLoss: 0.011446\n",
      "Epoch: 13/25. Train set: Average loss: 0.0137\n",
      "Epoch: 13/25. Validation set: Average loss: 0.0901\n",
      "Train: [0/4700 (0%)]\tLoss: 0.011189\n",
      "Epoch: 14/25. Train set: Average loss: 0.0133\n",
      "Epoch: 14/25. Validation set: Average loss: 0.0925\n",
      "Train: [0/4700 (0%)]\tLoss: 0.013588\n",
      "Finshed Mapping...\n",
      "Optimistic Model Acc:  [0.16, 0.1, 0.1]\n",
      "Optimistic Baseline Acc:  [0.22, 0.14, 0.14]\n",
      "Optimistic Model BLEU:  9.018\n",
      "Optimistic Baseline BLEU:  7.621\n",
      "Optimistic Model METEOR:  0.115\n",
      "Optimistic Baseline METEOR:  0.167\n",
      "Epoch: 15/25. Train set: Average loss: 0.0116\n",
      "Epoch: 15/25. Validation set: Average loss: 0.0904\n",
      "Train: [0/4700 (0%)]\tLoss: 0.009273\n",
      "Epoch: 16/25. Train set: Average loss: 0.0107\n",
      "Epoch: 16/25. Validation set: Average loss: 0.0897\n",
      "Train: [0/4700 (0%)]\tLoss: 0.004364\n",
      "Epoch: 17/25. Train set: Average loss: 0.0096\n",
      "Epoch: 17/25. Validation set: Average loss: 0.0883\n",
      "Train: [0/4700 (0%)]\tLoss: 0.008418\n",
      "Finshed Mapping...\n",
      "Optimistic Model Acc:  [0.16, 0.1, 0.1]\n",
      "Optimistic Baseline Acc:  [0.22, 0.14, 0.14]\n",
      "Optimistic Model BLEU:  8.506\n",
      "Optimistic Baseline BLEU:  7.621\n",
      "Optimistic Model METEOR:  0.113\n",
      "Optimistic Baseline METEOR:  0.167\n",
      "Epoch: 18/25. Train set: Average loss: 0.0089\n",
      "Epoch: 18/25. Validation set: Average loss: 0.0897\n",
      "Train: [0/4700 (0%)]\tLoss: 0.008589\n",
      "Epoch: 19/25. Train set: Average loss: 0.0082\n",
      "Epoch: 19/25. Validation set: Average loss: 0.0922\n",
      "Train: [0/4700 (0%)]\tLoss: 0.008114\n",
      "Epoch: 20/25. Train set: Average loss: 0.0078\n",
      "Epoch: 20/25. Validation set: Average loss: 0.0935\n",
      "Train: [0/4700 (0%)]\tLoss: 0.010701\n",
      "Finshed Mapping...\n",
      "Optimistic Model Acc:  [0.16, 0.11, 0.11]\n",
      "Optimistic Baseline Acc:  [0.22, 0.14, 0.14]\n",
      "Optimistic Model BLEU:  8.999\n",
      "Optimistic Baseline BLEU:  7.621\n",
      "Optimistic Model METEOR:  0.129\n",
      "Optimistic Baseline METEOR:  0.167\n",
      "Epoch: 21/25. Train set: Average loss: 0.0077\n",
      "Epoch: 21/25. Validation set: Average loss: 0.0919\n",
      "Train: [0/4700 (0%)]\tLoss: 0.008454\n",
      "Epoch: 22/25. Train set: Average loss: 0.0070\n",
      "Epoch: 22/25. Validation set: Average loss: 0.0947\n",
      "Train: [0/4700 (0%)]\tLoss: 0.003571\n",
      "Epoch: 23/25. Train set: Average loss: 0.0066\n",
      "Epoch: 23/25. Validation set: Average loss: 0.0935\n",
      "Train: [0/4700 (0%)]\tLoss: 0.003176\n",
      "Finshed Mapping...\n",
      "Optimistic Model Acc:  [0.17, 0.11, 0.1]\n",
      "Optimistic Baseline Acc:  [0.22, 0.14, 0.14]\n",
      "Optimistic Model BLEU:  9.088\n",
      "Optimistic Baseline BLEU:  7.621\n",
      "Optimistic Model METEOR:  0.123\n",
      "Optimistic Baseline METEOR:  0.167\n",
      "Epoch: 24/25. Train set: Average loss: 0.0064\n",
      "Epoch: 24/25. Validation set: Average loss: 0.0920\n",
      "Train: [0/4700 (0%)]\tLoss: 0.004500\n",
      "Epoch: 25/25. Train set: Average loss: 0.0060\n",
      "Epoch: 25/25. Validation set: Average loss: 0.0955\n"
     ]
    }
   ],
   "source": [
    "n_epochs = 25\n",
    "log_interval = 100\n",
    "train_losses, val_losses, metrices = fit(triplet_train_loader, triplet_test_loader, triple_model, loss_fn, \n",
    "                                         optimizer, scheduler, n_epochs, cuda, log_interval, \n",
    "                                         callback_test=test_fun, keep_checkpoint_max=5, model_dir='./models/')"
   ]
  },
  {
   "cell_type": "code",
   "execution_count": 76,
   "metadata": {
    "scrolled": false
   },
   "outputs": [
    {
     "data": {
      "image/png": "[encoded data removed]",
      "text/plain": [
       "<Figure size 432x288 with 1 Axes>"
      ]
     },
     "metadata": {
      "needs_background": "light"
     },
     "output_type": "display_data"
    }
   ],
   "source": [
    "plt.plot(train_losses)\n",
    "plt.plot(val_losses)\n",
    "plt.show()"
   ]
  },
  {
   "cell_type": "markdown",
   "metadata": {},
   "source": [
    "### Testing the model:"
   ]
  },
  {
   "cell_type": "code",
   "execution_count": 77,
   "metadata": {},
   "outputs": [],
   "source": [
    "def perform_evaluation(model, test_data, target_space, test_scenario='optimistic'):\n",
    "    baseline_acc, model_acc, baseline_meteor, baseline_bleu,\\\n",
    "    model_meteor, model_bleu, model_preds, baseline_preds = test_model(model, test_data, target_space, \n",
    "                                                            test_scenario=test_scenario,\n",
    "                                                            combination_of=combination_of)\n",
    "    print('Optimistic Model Acc: ', model_acc)\n",
    "    print('Optimistic Baseline Acc: ', baseline_acc)\n",
    "    print('Optimistic Model BLEU: ', model_bleu)\n",
    "    print('Optimistic Baseline BLEU: ', baseline_bleu)\n",
    "    print('Optimistic Model METEOR: ', model_meteor)\n",
    "    print('Optimistic Baseline METEOR: ', baseline_meteor)"
   ]
  },
  {
   "cell_type": "code",
   "execution_count": 78,
   "metadata": {},
   "outputs": [],
   "source": [
    "#Test only the targets we learned on..\n",
    "#model_acc, baseline_acc, model_preds, baseline_preds = test_model(triple_model, test_data, new_target_space)"
   ]
  },
  {
   "cell_type": "code",
   "execution_count": 79,
   "metadata": {},
   "outputs": [
    {
     "name": "stdout",
     "output_type": "stream",
     "text": [
      "Finshed Mapping...\n",
      "Optimistic Model Acc:  [0.24, 0.14, 0.14]\n",
      "Optimistic Baseline Acc:  [0.31, 0.19, 0.18]\n",
      "Optimistic Model BLEU:  8.652\n",
      "Optimistic Baseline BLEU:  8.213\n",
      "Optimistic Model METEOR:  0.119\n",
      "Optimistic Baseline METEOR:  0.166\n"
     ]
    }
   ],
   "source": [
    "perform_evaluation(triple_model, idebate_test_data, target_space, test_scenario='optimistic')"
   ]
  },
  {
   "cell_type": "code",
   "execution_count": 80,
   "metadata": {},
   "outputs": [
    {
     "name": "stdout",
     "output_type": "stream",
     "text": [
      "Finshed Mapping...\n",
      "Optimistic Model Acc:  [0.23, 0.12, 0.12]\n",
      "Optimistic Baseline Acc:  [0.31, 0.19, 0.18]\n",
      "Optimistic Model BLEU:  6.04\n",
      "Optimistic Baseline BLEU:  7.898\n",
      "Optimistic Model METEOR:  0.102\n",
      "Optimistic Baseline METEOR:  0.164\n"
     ]
    }
   ],
   "source": [
    "perform_evaluation(triple_model, idebate_test_data, target_space, test_scenario='pessimistic')"
   ]
  },
  {
   "cell_type": "code",
   "execution_count": 57,
   "metadata": {},
   "outputs": [],
   "source": [
    "model_fn = lambda x: triple_model.get_target_embedding(x).detach().numpy()"
   ]
  },
  {
   "cell_type": "code",
   "execution_count": 58,
   "metadata": {},
   "outputs": [
    {
     "data": {
      "image/png": "[encoded data removed]",
      "text/plain": [
       "<Figure size 432x288 with 1 Axes>"
      ]
     },
     "metadata": {
      "needs_background": "light"
     },
     "output_type": "display_data"
    },
    {
     "data": {
      "image/png": "[encoded data removed]",
      "text/plain": [
       "<Figure size 432x288 with 1 Axes>"
      ]
     },
     "metadata": {
      "needs_background": "light"
     },
     "output_type": "display_data"
    }
   ],
   "source": [
    "%matplotlib inline\n",
    "\n",
    "show_distance_dist(model_fn, val_triplet_ds)"
   ]
  },
  {
   "cell_type": "code",
   "execution_count": 37,
   "metadata": {},
   "outputs": [
    {
     "data": {
      "image/png": "[encoded data removed]",
      "text/plain": [
       "<Figure size 432x288 with 1 Axes>"
      ]
     },
     "metadata": {
      "needs_background": "light"
     },
     "output_type": "display_data"
    }
   ],
   "source": [
    "p_avg_dist = [distance.cosine(x[0], x[1]) for x in val_p_avg]\n",
    "mapped_p_avg_dist = [distance.cosine(triple_model.get_avg_embedding(torch.from_numpy(x[0])).detach().numpy(), \n",
    "                                     triple_model.get_target_embedding(torch.from_numpy(x[1])).detach().numpy()) for x in val_p_avg]\n",
    "\n",
    "#p_avg_dist = [2 if np.isnan(x) else x for x in p_avg_dist]\n",
    "\n",
    "plt.hist(p_avg_dist, alpha = 0.5, color='red', label='p_avg_dist', bins=np.arange(0,2.1, 0.1))\n",
    "plt.hist(mapped_p_avg_dist, alpha = 0.5, color='blue', label='mapped p_avg_dist', bins=np.arange(0,2.1, 0.1))\n",
    "plt.title('distirbution of distance between premise targets and their avg')\n",
    "plt.xticks(np.arange(0, 2.1, 0.2))\n",
    "plt.legend()\n",
    "plt.show()"
   ]
  },
  {
   "cell_type": "code",
   "execution_count": 26,
   "metadata": {},
   "outputs": [],
   "source": [
    "torch.save(triple_model.state_dict(), 'triplet-model.pth')"
   ]
  }
 ],
 "metadata": {
  "accelerator": "GPU",
  "colab": {
   "default_view": {},
   "name": "Experiments_MNIST.ipynb",
   "provenance": [],
   "version": "0.3.2",
   "views": {}
  },
  "kernelspec": {
   "display_name": "Python 3",
   "language": "python",
   "name": "python3"
  },
  "language_info": {
   "codemirror_mode": {
    "name": "ipython",
    "version": 3
   },
   "file_extension": ".py",
   "mimetype": "text/x-python",
   "name": "python",
   "nbconvert_exporter": "python",
   "pygments_lexer": "ipython3",
   "version": "3.7.2"
  }
 },
 "nbformat": 4,
 "nbformat_minor": 2
}
